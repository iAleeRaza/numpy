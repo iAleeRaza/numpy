{
 "cells": [
  {
   "cell_type": "markdown",
   "id": "b2c99164",
   "metadata": {},
   "source": [
    "### `Numpy Array` v/s `Python List`"
   ]
  },
  {
   "cell_type": "code",
   "execution_count": 6,
   "id": "ce88e1e9",
   "metadata": {},
   "outputs": [
    {
     "name": "stdout",
     "output_type": "stream",
     "text": [
      "6.013935565948486\n"
     ]
    }
   ],
   "source": [
    "# speed in list\n",
    "a = [i for i in range(10000000)]\n",
    "b = [i for i in range(10000000, 20000000)]\n",
    "c = []\n",
    "\n",
    "import time\n",
    "start = time.time()\n",
    "for i in range(len(a)):\n",
    "    c.append(a[i] + b[i])\n",
    "print(time.time() - start)\n",
    "\n"
   ]
  },
  {
   "cell_type": "code",
   "execution_count": null,
   "metadata": {},
   "outputs": [
    {
     "name": "stdout",
     "output_type": "stream",
     "text": [
      "0.5254020690917969\n"
     ]
    }
   ],
   "source": [
    "import numpy as np\n",
    "a = np.arange(10000000)\n",
    "b = np.arange(10000000, 20000000)\n",
    "\n",
    "start = time.time()\n",
    "c = a+b\n",
    "print(time.time() - start)"
   ]
  },
  {
   "cell_type": "code",
   "execution_count": 22,
   "metadata": {},
   "outputs": [
    {
     "name": "stdout",
     "output_type": "stream",
     "text": [
      "Size of list: 89095160 bytes\n",
      "Size of array: 40000112 bytes\n"
     ]
    }
   ],
   "source": [
    "# memory of list\n",
    "a = [i for i in range(10000000)]\n",
    "b = np.arange(10000000)\n",
    "\n",
    "import sys\n",
    "print(f'Size of list: {sys.getsizeof(a)} bytes')\n",
    "print(f'Size of array: {sys.getsizeof(b)} bytes')"
   ]
  },
  {
   "cell_type": "code",
   "execution_count": null,
   "metadata": {},
   "outputs": [],
   "source": []
  },
  {
   "cell_type": "markdown",
   "id": "5034db5f",
   "metadata": {},
   "source": [
    "### `Advanced Indexing`"
   ]
  },
  {
   "cell_type": "code",
   "execution_count": 25,
   "id": "38ec8a8b",
   "metadata": {},
   "outputs": [
    {
     "data": {
      "text/plain": [
       "array([[30, 31, 32, 33],\n",
       "       [34, 35, 36, 37],\n",
       "       [38, 39, 40, 41],\n",
       "       [42, 43, 44, 45]])"
      ]
     },
     "execution_count": 25,
     "metadata": {},
     "output_type": "execute_result"
    }
   ],
   "source": [
    "a = np.arange(30, 46).reshape(4,4)\n",
    "a"
   ]
  },
  {
   "cell_type": "code",
   "execution_count": null,
   "id": "af55b9c3",
   "metadata": {},
   "outputs": [
    {
     "data": {
      "text/plain": [
       "array([[30, 31, 32, 33],\n",
       "       [38, 39, 40, 41],\n",
       "       [42, 43, 44, 45]])"
      ]
     },
     "execution_count": 26,
     "metadata": {},
     "output_type": "execute_result"
    }
   ],
   "source": [
    "# fancy indexing\n",
    "# example: we need the 1st, 3rd and the 4th row (no pattern)\n",
    "a[[0, 2, 3]]\n"
   ]
  },
  {
   "cell_type": "code",
   "execution_count": 27,
   "metadata": {},
   "outputs": [
    {
     "data": {
      "text/plain": [
       "array([[31, 32],\n",
       "       [35, 36],\n",
       "       [39, 40],\n",
       "       [43, 44]])"
      ]
     },
     "execution_count": 27,
     "metadata": {},
     "output_type": "execute_result"
    }
   ],
   "source": [
    "a[:,[1,2]]"
   ]
  },
  {
   "cell_type": "code",
   "execution_count": 29,
   "id": "b9f776c2",
   "metadata": {},
   "outputs": [],
   "source": [
    "# Boolean indexing\n",
    "a = np.random.randint(1, 200, 30).reshape(6,5)"
   ]
  },
  {
   "cell_type": "code",
   "execution_count": 40,
   "id": "135c086c",
   "metadata": {},
   "outputs": [
    {
     "data": {
      "text/plain": [
       "array([115, 180, 122, 102,  98,  73, 144, 121, 176,  71, 198, 192, 113,\n",
       "       133, 115, 129, 152,  75, 140, 181,  67])"
      ]
     },
     "execution_count": 40,
     "metadata": {},
     "output_type": "execute_result"
    }
   ],
   "source": [
    "#find numbers grater that 60\n",
    "a[a>60]"
   ]
  },
  {
   "cell_type": "code",
   "execution_count": 41,
   "id": "6b097141",
   "metadata": {},
   "outputs": [
    {
     "data": {
      "text/plain": [
       "array([ 30, 180, 122, 102,  98, 144, 176, 198,  32, 192, 152, 140])"
      ]
     },
     "execution_count": 41,
     "metadata": {},
     "output_type": "execute_result"
    }
   ],
   "source": [
    "#find all the even numbers\n",
    "a[a%2 == 0]"
   ]
  },
  {
   "cell_type": "code",
   "execution_count": 42,
   "id": "19c5cb2e",
   "metadata": {},
   "outputs": [
    {
     "data": {
      "text/plain": [
       "array([180, 122, 102,  98, 144, 176, 198, 192, 152, 140])"
      ]
     },
     "execution_count": 42,
     "metadata": {},
     "output_type": "execute_result"
    }
   ],
   "source": [
    "# find numbers greater than 60 and also even\n",
    "a[(a%2 == 0) & (a>60)]"
   ]
  },
  {
   "cell_type": "code",
   "execution_count": 43,
   "id": "02f9485e",
   "metadata": {},
   "outputs": [
    {
     "data": {
      "text/plain": [
       "array([ 30, 115, 180, 115,  25,  75, 140])"
      ]
     },
     "execution_count": 43,
     "metadata": {},
     "output_type": "execute_result"
    }
   ],
   "source": [
    "# numbers divisable by 5\n",
    "a[a%5 == 0]\n"
   ]
  },
  {
   "cell_type": "code",
   "execution_count": 44,
   "id": "c32459d2",
   "metadata": {},
   "outputs": [
    {
     "data": {
      "text/plain": [
       "array([ 43, 122, 102,  98,  73, 144, 121,  21, 176,  49,  71,  57, 198,\n",
       "        33,  32, 192, 113, 133, 129,  27, 152, 181,  67])"
      ]
     },
     "execution_count": 44,
     "metadata": {},
     "output_type": "execute_result"
    }
   ],
   "source": [
    "# numbers not divisable by 5\n",
    "a[~(a%5 == 0)]\n"
   ]
  },
  {
   "cell_type": "markdown",
   "id": "a88b15d1",
   "metadata": {},
   "source": [
    "### `Broadcasting`\n",
    "- Broadcasting in NumPy is a feature that allows arrays of different shapes to be used together in arithmetic operations without explicitly reshaping them.\n",
    "\n",
    "    #### `Rules`\n",
    "    *1. Array Dimensions must be equal:*\n",
    "        \n",
    "    - If they are not equal, the smaller dimension array is broadcasted by new dimension with size 1 to match the larger one.\n",
    "\n",
    "    *2. Size of each dimension must be equal:*\n",
    "    - If they are not equal, dimensions with size 1 are streched to match the size of the larger array.\n",
    "    - If there is no dimension with size 1, the arrays are not broadcastable.\n"
   ]
  },
  {
   "cell_type": "code",
   "execution_count": 47,
   "id": "73971848",
   "metadata": {},
   "outputs": [
    {
     "name": "stdout",
     "output_type": "stream",
     "text": [
      "[[ 0  1  2]\n",
      " [ 3  4  5]\n",
      " [ 6  7  8]\n",
      " [ 9 10 11]]\n",
      "[0 1 2]\n",
      "[[ 0  2  4]\n",
      " [ 3  5  7]\n",
      " [ 6  8 10]\n",
      " [ 9 11 13]]\n"
     ]
    }
   ],
   "source": [
    "a = np.arange(12).reshape(4,3)\n",
    "b = np.arange(3)\n",
    "\n",
    "print(a)\n",
    "print(b)\n",
    "print(a+b)"
   ]
  },
  {
   "cell_type": "code",
   "execution_count": 49,
   "metadata": {},
   "outputs": [
    {
     "name": "stdout",
     "output_type": "stream",
     "text": [
      "[[ 0  1  2  3]\n",
      " [ 4  5  6  7]\n",
      " [ 8  9 10 11]]\n",
      "[0 1 2]\n"
     ]
    },
    {
     "ename": "ValueError",
     "evalue": "operands could not be broadcast together with shapes (3,4) (3,) ",
     "output_type": "error",
     "traceback": [
      "\u001b[1;31m---------------------------------------------------------------------------\u001b[0m",
      "\u001b[1;31mValueError\u001b[0m                                Traceback (most recent call last)",
      "Cell \u001b[1;32mIn[49], line 6\u001b[0m\n\u001b[0;32m      4\u001b[0m \u001b[38;5;28mprint\u001b[39m(a)\n\u001b[0;32m      5\u001b[0m \u001b[38;5;28mprint\u001b[39m(b)\n\u001b[1;32m----> 6\u001b[0m \u001b[38;5;28mprint\u001b[39m(a\u001b[38;5;241m+\u001b[39mb)\n",
      "\u001b[1;31mValueError\u001b[0m: operands could not be broadcast together with shapes (3,4) (3,) "
     ]
    }
   ],
   "source": [
    "a = np.arange(12).reshape(3,4)\n",
    "b = np.arange(3)\n",
    "\n",
    "print(a)\n",
    "print(b)\n",
    "print(a+b) # error"
   ]
  },
  {
   "cell_type": "code",
   "execution_count": 50,
   "id": "4d13f549",
   "metadata": {},
   "outputs": [
    {
     "name": "stdout",
     "output_type": "stream",
     "text": [
      "[[0 1 2]]\n",
      "[[0]\n",
      " [1]\n",
      " [2]]\n",
      "[[0 1 2]\n",
      " [1 2 3]\n",
      " [2 3 4]]\n"
     ]
    }
   ],
   "source": [
    "a = np.arange(3).reshape(1,3)\n",
    "b = np.arange(3).reshape(3,1)\n",
    "\n",
    "print(a)\n",
    "print(b)\n",
    "print(a+b)"
   ]
  },
  {
   "cell_type": "code",
   "execution_count": 53,
   "id": "e604f604",
   "metadata": {},
   "outputs": [
    {
     "name": "stdout",
     "output_type": "stream",
     "text": [
      "[[0 1 2 3]]\n",
      "[[0]\n",
      " [1]\n",
      " [2]]\n",
      "[[0 1 2 3]\n",
      " [1 2 3 4]\n",
      " [2 3 4 5]]\n"
     ]
    }
   ],
   "source": [
    "a = np.arange(4).reshape(1,4)\n",
    "b = np.arange(3).reshape(3,1)\n",
    "\n",
    "print(a)\n",
    "print(b)\n",
    "print(a+b)"
   ]
  },
  {
   "cell_type": "code",
   "execution_count": 54,
   "id": "da423030",
   "metadata": {},
   "outputs": [
    {
     "ename": "ValueError",
     "evalue": "cannot reshape array of size 4 into shape (3,4)",
     "output_type": "error",
     "traceback": [
      "\u001b[1;31m---------------------------------------------------------------------------\u001b[0m",
      "\u001b[1;31mValueError\u001b[0m                                Traceback (most recent call last)",
      "Cell \u001b[1;32mIn[54], line 1\u001b[0m\n\u001b[1;32m----> 1\u001b[0m a \u001b[38;5;241m=\u001b[39m np\u001b[38;5;241m.\u001b[39marange(\u001b[38;5;241m4\u001b[39m)\u001b[38;5;241m.\u001b[39mreshape(\u001b[38;5;241m3\u001b[39m,\u001b[38;5;241m4\u001b[39m)\n\u001b[0;32m      2\u001b[0m b \u001b[38;5;241m=\u001b[39m np\u001b[38;5;241m.\u001b[39marange(\u001b[38;5;241m3\u001b[39m)\u001b[38;5;241m.\u001b[39mreshape(\u001b[38;5;241m4\u001b[39m,\u001b[38;5;241m3\u001b[39m)\n\u001b[0;32m      4\u001b[0m \u001b[38;5;28mprint\u001b[39m(a)\n",
      "\u001b[1;31mValueError\u001b[0m: cannot reshape array of size 4 into shape (3,4)"
     ]
    }
   ],
   "source": [
    "a = np.arange(4).reshape(3,4)\n",
    "b = np.arange(3).reshape(4,3)\n",
    "\n",
    "print(a)\n",
    "print(b)\n",
    "print(a+b)"
   ]
  },
  {
   "cell_type": "markdown",
   "id": "4e5213f0",
   "metadata": {},
   "source": [
    "### `Creating Mathematical Formulae`"
   ]
  },
  {
   "cell_type": "markdown",
   "id": "f854230a",
   "metadata": {},
   "source": [
    "**Sigmoid**\n",
    "\n",
    "![Sigmoid](https://tse2.mm.bing.net/th/id/OIP.Rz9IakVnU6eycoKwgBdPBAAAAA?rs=1&pid=ImgDetMain)"
   ]
  },
  {
   "cell_type": "code",
   "execution_count": 55,
   "id": "f871b700",
   "metadata": {},
   "outputs": [],
   "source": [
    "# Sigmoid\n",
    "def sigmoid(x):\n",
    "    return 1 / (1 + np.exp(-x))\n"
   ]
  },
  {
   "cell_type": "code",
   "execution_count": 58,
   "metadata": {},
   "outputs": [
    {
     "data": {
      "text/plain": [
       "array([0.5       , 0.73105858, 0.88079708, 0.95257413, 0.98201379,\n",
       "       0.99330715, 0.99752738, 0.99908895, 0.99966465, 0.99987661,\n",
       "       0.9999546 , 0.9999833 , 0.99999386, 0.99999774, 0.99999917,\n",
       "       0.99999969, 0.99999989, 0.99999996, 0.99999998, 0.99999999,\n",
       "       1.        , 1.        , 1.        , 1.        , 1.        ,\n",
       "       1.        , 1.        , 1.        , 1.        , 1.        ,\n",
       "       1.        , 1.        , 1.        , 1.        , 1.        ,\n",
       "       1.        , 1.        , 1.        , 1.        , 1.        ,\n",
       "       1.        , 1.        , 1.        , 1.        , 1.        ,\n",
       "       1.        , 1.        , 1.        , 1.        , 1.        ])"
      ]
     },
     "execution_count": 58,
     "metadata": {},
     "output_type": "execute_result"
    }
   ],
   "source": [
    "a = np.arange(50)\n",
    "sigmoid(a)"
   ]
  },
  {
   "cell_type": "markdown",
   "id": "8966334b",
   "metadata": {},
   "source": [
    "**Mean Squared Error**\n",
    "\n",
    "![MSE](https://i0.wp.com/statisticsbyjim.com/wp-content/uploads/2021/11/mse_formula.png?resize=246%2C78&ssl=1)"
   ]
  },
  {
   "cell_type": "code",
   "execution_count": 60,
   "id": "1f81b705",
   "metadata": {},
   "outputs": [],
   "source": [
    "def mse(arr1, arr2):\n",
    "    return np.mean((arr1 - arr2)**2)"
   ]
  },
  {
   "cell_type": "code",
   "execution_count": 73,
   "id": "393f2641",
   "metadata": {},
   "outputs": [
    {
     "name": "stdout",
     "output_type": "stream",
     "text": [
      "[ 9 14 23  0  5 26 21 14 16 27 17  0 21 19  9 27 26 14  2  3]\n",
      "[23 29  0  6 28 21 25  7  0 10 11 14  9 24 17 24 19 11  6  1]\n"
     ]
    }
   ],
   "source": [
    "a = np.random.randint(0, 30, 20)\n",
    "b = np.random.randint(0, 30, 20)\n",
    "print(a)\n",
    "print(b)"
   ]
  },
  {
   "cell_type": "code",
   "execution_count": 74,
   "metadata": {},
   "outputs": [
    {
     "data": {
      "text/plain": [
       "135.1"
      ]
     },
     "execution_count": 74,
     "metadata": {},
     "output_type": "execute_result"
    }
   ],
   "source": [
    "mse(a,b)"
   ]
  },
  {
   "cell_type": "markdown",
   "id": "2be063a6",
   "metadata": {},
   "source": [
    "**Categorical Cross-Entropy**\n",
    "\n",
    "<img src=\"https://i.stack.imgur.com/LTx3i.png\" alt=\"ME\" width=\"400\"/>"
   ]
  },
  {
   "cell_type": "code",
   "execution_count": 84,
   "id": "96edc998",
   "metadata": {},
   "outputs": [],
   "source": [
    "# Categorical cross entropy\n",
    "\n",
    "def cce(arr1, arr2):\n",
    "    return -np.sum(arr1 * np.log(arr2 + 1e-15)) # 1e-15 to avoid log(0)\n",
    "\n"
   ]
  },
  {
   "cell_type": "code",
   "execution_count": 85,
   "id": "a659bd3a",
   "metadata": {},
   "outputs": [
    {
     "data": {
      "text/plain": [
       "646.5183537167079"
      ]
     },
     "execution_count": 85,
     "metadata": {},
     "output_type": "execute_result"
    }
   ],
   "source": [
    "cce(a,b)"
   ]
  },
  {
   "cell_type": "code",
   "execution_count": 86,
   "id": "561bd071",
   "metadata": {},
   "outputs": [
    {
     "data": {
      "text/plain": [
       "1e-100"
      ]
     },
     "execution_count": 86,
     "metadata": {},
     "output_type": "execute_result"
    }
   ],
   "source": [
    "10 ** -100"
   ]
  },
  {
   "cell_type": "markdown",
   "id": "d4bb6577",
   "metadata": {},
   "source": [
    "**Binary Cross-Entropy**\n",
    "\n",
    "<img src=\"https://pbs.twimg.com/media/FNBiaSRXEAAyrzC.png\" alt=\"ME\" width=\"400\"/>"
   ]
  },
  {
   "cell_type": "code",
   "execution_count": null,
   "id": "9337c693",
   "metadata": {},
   "outputs": [],
   "source": [
    "def bce(y, y_pred):\n",
    "    y_pred = np.clip(y_pred, 1e-15, 1 - 1e-15) # clip to avoid log(0)\n",
    "    return -np.mean(y * np.log(y_pred) + (1 - y) * np.log(1 - y_pred))"
   ]
  },
  {
   "cell_type": "code",
   "execution_count": 98,
   "id": "4e1a3fde",
   "metadata": {},
   "outputs": [
    {
     "name": "stdout",
     "output_type": "stream",
     "text": [
      "[0 0 1 0 1 0 0 0 0 1]\n",
      "[0 0 0 0 0 1 0 1 0 0]\n"
     ]
    }
   ],
   "source": [
    "a = np.random.randint(0, 2, size=(10))\n",
    "b = np.random.randint(0, 2, size=(10))\n",
    "\n",
    "print(a)\n",
    "print(b)"
   ]
  },
  {
   "cell_type": "code",
   "execution_count": 99,
   "id": "1a22a8ee",
   "metadata": {},
   "outputs": [
    {
     "data": {
      "text/plain": [
       "17.26954811694138"
      ]
     },
     "execution_count": 99,
     "metadata": {},
     "output_type": "execute_result"
    }
   ],
   "source": [
    "bce(a,b)"
   ]
  }
 ],
 "metadata": {
  "kernelspec": {
   "display_name": "base",
   "language": "python",
   "name": "python3"
  },
  "language_info": {
   "codemirror_mode": {
    "name": "ipython",
    "version": 3
   },
   "file_extension": ".py",
   "mimetype": "text/x-python",
   "name": "python",
   "nbconvert_exporter": "python",
   "pygments_lexer": "ipython3",
   "version": "3.12.4"
  }
 },
 "nbformat": 4,
 "nbformat_minor": 5
}
