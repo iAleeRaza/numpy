{
 "cells": [
  {
   "cell_type": "markdown",
   "id": "b2c99164",
   "metadata": {},
   "source": [
    "## `Numpy Array` v/s `Python List`"
   ]
  },
  {
   "cell_type": "code",
   "execution_count": 6,
   "id": "ce88e1e9",
   "metadata": {},
   "outputs": [
    {
     "name": "stdout",
     "output_type": "stream",
     "text": [
      "6.013935565948486\n"
     ]
    }
   ],
   "source": [
    "# speed in list\n",
    "a = [i for i in range(10000000)]\n",
    "b = [i for i in range(10000000, 20000000)]\n",
    "c = []\n",
    "\n",
    "import time\n",
    "start = time.time()\n",
    "for i in range(len(a)):\n",
    "    c.append(a[i] + b[i])\n",
    "print(time.time() - start)\n",
    "\n"
   ]
  },
  {
   "cell_type": "code",
   "execution_count": null,
   "metadata": {},
   "outputs": [
    {
     "name": "stdout",
     "output_type": "stream",
     "text": [
      "0.5254020690917969\n"
     ]
    }
   ],
   "source": [
    "import numpy as np\n",
    "a = np.arange(10000000)\n",
    "b = np.arange(10000000, 20000000)\n",
    "\n",
    "start = time.time()\n",
    "c = a+b\n",
    "print(time.time() - start)"
   ]
  },
  {
   "cell_type": "code",
   "execution_count": 22,
   "metadata": {},
   "outputs": [
    {
     "name": "stdout",
     "output_type": "stream",
     "text": [
      "Size of list: 89095160 bytes\n",
      "Size of array: 40000112 bytes\n"
     ]
    }
   ],
   "source": [
    "# memory of list\n",
    "a = [i for i in range(10000000)]\n",
    "b = np.arange(10000000)\n",
    "\n",
    "import sys\n",
    "print(f'Size of list: {sys.getsizeof(a)} bytes')\n",
    "print(f'Size of array: {sys.getsizeof(b)} bytes')"
   ]
  },
  {
   "cell_type": "code",
   "execution_count": null,
   "metadata": {},
   "outputs": [],
   "source": []
  },
  {
   "cell_type": "markdown",
   "id": "5034db5f",
   "metadata": {},
   "source": [
    "## `Advanced Indexing`"
   ]
  },
  {
   "cell_type": "code",
   "execution_count": 25,
   "id": "38ec8a8b",
   "metadata": {},
   "outputs": [
    {
     "data": {
      "text/plain": [
       "array([[30, 31, 32, 33],\n",
       "       [34, 35, 36, 37],\n",
       "       [38, 39, 40, 41],\n",
       "       [42, 43, 44, 45]])"
      ]
     },
     "execution_count": 25,
     "metadata": {},
     "output_type": "execute_result"
    }
   ],
   "source": [
    "a = np.arange(30, 46).reshape(4,4)\n",
    "a"
   ]
  },
  {
   "cell_type": "code",
   "execution_count": null,
   "id": "af55b9c3",
   "metadata": {},
   "outputs": [
    {
     "data": {
      "text/plain": [
       "array([[30, 31, 32, 33],\n",
       "       [38, 39, 40, 41],\n",
       "       [42, 43, 44, 45]])"
      ]
     },
     "execution_count": 26,
     "metadata": {},
     "output_type": "execute_result"
    }
   ],
   "source": [
    "# fancy indexing\n",
    "# example: we need the 1st, 3rd and the 4th row (no pattern)\n",
    "a[[0, 2, 3]]\n"
   ]
  },
  {
   "cell_type": "code",
   "execution_count": 27,
   "metadata": {},
   "outputs": [
    {
     "data": {
      "text/plain": [
       "array([[31, 32],\n",
       "       [35, 36],\n",
       "       [39, 40],\n",
       "       [43, 44]])"
      ]
     },
     "execution_count": 27,
     "metadata": {},
     "output_type": "execute_result"
    }
   ],
   "source": [
    "a[:,[1,2]]"
   ]
  },
  {
   "cell_type": "code",
   "execution_count": 29,
   "id": "b9f776c2",
   "metadata": {},
   "outputs": [],
   "source": [
    "# Boolean indexing\n",
    "a = np.random.randint(1, 200, 30).reshape(6,5)"
   ]
  },
  {
   "cell_type": "code",
   "execution_count": 40,
   "id": "135c086c",
   "metadata": {},
   "outputs": [
    {
     "data": {
      "text/plain": [
       "array([115, 180, 122, 102,  98,  73, 144, 121, 176,  71, 198, 192, 113,\n",
       "       133, 115, 129, 152,  75, 140, 181,  67])"
      ]
     },
     "execution_count": 40,
     "metadata": {},
     "output_type": "execute_result"
    }
   ],
   "source": [
    "#find numbers grater that 60\n",
    "a[a>60]"
   ]
  },
  {
   "cell_type": "code",
   "execution_count": 41,
   "id": "6b097141",
   "metadata": {},
   "outputs": [
    {
     "data": {
      "text/plain": [
       "array([ 30, 180, 122, 102,  98, 144, 176, 198,  32, 192, 152, 140])"
      ]
     },
     "execution_count": 41,
     "metadata": {},
     "output_type": "execute_result"
    }
   ],
   "source": [
    "#find all the even numbers\n",
    "a[a%2 == 0]"
   ]
  },
  {
   "cell_type": "code",
   "execution_count": 42,
   "id": "19c5cb2e",
   "metadata": {},
   "outputs": [
    {
     "data": {
      "text/plain": [
       "array([180, 122, 102,  98, 144, 176, 198, 192, 152, 140])"
      ]
     },
     "execution_count": 42,
     "metadata": {},
     "output_type": "execute_result"
    }
   ],
   "source": [
    "# find numbers greater than 60 and also even\n",
    "a[(a%2 == 0) & (a>60)]"
   ]
  },
  {
   "cell_type": "code",
   "execution_count": 43,
   "id": "02f9485e",
   "metadata": {},
   "outputs": [
    {
     "data": {
      "text/plain": [
       "array([ 30, 115, 180, 115,  25,  75, 140])"
      ]
     },
     "execution_count": 43,
     "metadata": {},
     "output_type": "execute_result"
    }
   ],
   "source": [
    "# numbers divisable by 5\n",
    "a[a%5 == 0]\n"
   ]
  },
  {
   "cell_type": "code",
   "execution_count": 44,
   "id": "c32459d2",
   "metadata": {},
   "outputs": [
    {
     "data": {
      "text/plain": [
       "array([ 43, 122, 102,  98,  73, 144, 121,  21, 176,  49,  71,  57, 198,\n",
       "        33,  32, 192, 113, 133, 129,  27, 152, 181,  67])"
      ]
     },
     "execution_count": 44,
     "metadata": {},
     "output_type": "execute_result"
    }
   ],
   "source": [
    "# numbers not divisable by 5\n",
    "a[~(a%5 == 0)]\n"
   ]
  },
  {
   "cell_type": "markdown",
   "id": "a88b15d1",
   "metadata": {},
   "source": []
  }
 ],
 "metadata": {
  "kernelspec": {
   "display_name": "base",
   "language": "python",
   "name": "python3"
  },
  "language_info": {
   "codemirror_mode": {
    "name": "ipython",
    "version": 3
   },
   "file_extension": ".py",
   "mimetype": "text/x-python",
   "name": "python",
   "nbconvert_exporter": "python",
   "pygments_lexer": "ipython3",
   "version": "3.12.4"
  }
 },
 "nbformat": 4,
 "nbformat_minor": 5
}
